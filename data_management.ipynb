{
 "cells": [
  {
   "cell_type": "code",
   "execution_count": 0,
   "metadata": {
    "application/vnd.databricks.v1+cell": {
     "cellMetadata": {
      "byteLimit": 2048000,
      "rowLimit": 10000
     },
     "inputWidgets": {},
     "nuid": "c9430b36-2410-4677-ac3f-8e34356efbf2",
     "showTitle": false,
     "tableResultSettingsMap": {},
     "title": ""
    }
   },
   "outputs": [],
   "source": [
    "from pyspark.sql.functions import *"
   ]
  },
  {
   "cell_type": "markdown",
   "metadata": {
    "application/vnd.databricks.v1+cell": {
     "cellMetadata": {
      "byteLimit": 2048000,
      "rowLimit": 10000
     },
     "inputWidgets": {},
     "nuid": "0980cdc1-ec73-4372-929f-e51789ddb893",
     "showTitle": false,
     "tableResultSettingsMap": {},
     "title": ""
    }
   },
   "source": [
    "### import all table from azure container to databricks deltalake"
   ]
  },
  {
   "cell_type": "code",
   "execution_count": 0,
   "metadata": {
    "application/vnd.databricks.v1+cell": {
     "cellMetadata": {
      "byteLimit": 2048000,
      "rowLimit": 10000
     },
     "inputWidgets": {},
     "nuid": "e2c2d9e3-c71d-4904-b658-844838a5a61b",
     "showTitle": false,
     "tableResultSettingsMap": {},
     "title": ""
    }
   },
   "outputs": [],
   "source": [
    "display(dbutils.fs.ls(\"/mnt/monblob\"))\n"
   ]
  },
  {
   "cell_type": "code",
   "execution_count": 0,
   "metadata": {
    "application/vnd.databricks.v1+cell": {
     "cellMetadata": {
      "byteLimit": 2048000,
      "rowLimit": 10000
     },
     "inputWidgets": {},
     "nuid": "eed182d2-d37f-4837-b410-2b3302da943c",
     "showTitle": false,
     "tableResultSettingsMap": {},
     "title": ""
    }
   },
   "outputs": [],
   "source": [
    "# spark.read.format(\"csv\").option(\"header\", \"true\").load(\"dbfs:/mnt/monblob/flux_nouveaux_emprunts.csv\").write.mode(\"overwrite\").saveAsTable(\"flux_nouveaux_emprunts\")\n",
    "\n",
    "# spark.read.format(\"csv\").option(\"header\", \"true\").load(\"dbfs:/mnt/monblob/foyers_fiscaux.csv\").write.mode(\"overwrite\").saveAsTable(\"foyers_fiscaux\")\n",
    "\n",
    "# spark.read.format(\"csv\").option(\"header\", \"true\").load(\"dbfs:/mnt/monblob/loyers.csv\").write.mode(\"overwrite\").saveAsTable(\"loyers\")\n",
    "\n",
    "# spark.read.format(\"csv\").option(\"header\", \"true\").load(\"dbfs:/mnt/monblob/parc_immobilier.csv\").write.mode(\"overwrite\").saveAsTable(\"parc_immobilier\")\n",
    "\n",
    "# spark.read.format(\"csv\").option(\"header\", \"true\").load(\"dbfs:/mnt/monblob/taux_endettement.csv\").write.mode(\"overwrite\").saveAsTable(\"taux_endettement\")\n",
    "\n",
    "# spark.read.format(\"csv\").option(\"header\", \"true\").load(\"dbfs:/mnt/monblob/transactions.csv\").write.mode(\"overwrite\").saveAsTable(\"transactions\")\n",
    "\n",
    "# spark.read.format(\"csv\").option(\"header\", \"true\").load(\"dbfs:/mnt/monblob/indice_reference_loyers.csv\").write.mode(\"overwrite\").saveAsTable(\"indice_reference_loyers\")\n",
    "\n",
    "# spark.read.format(\"csv\").option(\"header\", \"true\").load(\"dbfs:/mnt/monblob/taux_interet.csv\").write.mode(\"overwrite\").saveAsTable(\"taux_interet\")\n"
   ]
  },
  {
   "cell_type": "code",
   "execution_count": 0,
   "metadata": {
    "application/vnd.databricks.v1+cell": {
     "cellMetadata": {
      "byteLimit": 2048000,
      "rowLimit": 10000
     },
     "inputWidgets": {},
     "nuid": "d2ce44cb-e706-417d-a756-8b33b9fda433",
     "showTitle": false,
     "tableResultSettingsMap": {},
     "title": ""
    }
   },
   "outputs": [],
   "source": [
    "transactions = spark.sql(\"select * from hive_metastore.default.transactions\")\n",
    "foyers_fiscaux = spark.sql(\"select * from hive_metastore.default.foyers_fiscaux\")\n",
    "indice_loyers = spark.sql(\"select * from hive_metastore.default.indice_reference_loyers\")\n",
    "loyers = spark.sql(\"select * from hive_metastore.default.loyers\")\n",
    "parc_immobilier = spark.sql(\"select * from hive_metastore.default.parc_immobilier\")\n",
    "taux_endettement = spark.sql(\"select * from hive_metastore.default.taux_endettement\")"
   ]
  },
  {
   "cell_type": "code",
   "execution_count": 0,
   "metadata": {
    "application/vnd.databricks.v1+cell": {
     "cellMetadata": {
      "byteLimit": 2048000,
      "rowLimit": 10000
     },
     "inputWidgets": {},
     "nuid": "af4f01c6-06b4-4229-8d6a-cda7de31bdf9",
     "showTitle": false,
     "tableResultSettingsMap": {},
     "title": ""
    }
   },
   "outputs": [],
   "source": [
    "transactions.display()"
   ]
  },
  {
   "cell_type": "code",
   "execution_count": 0,
   "metadata": {
    "application/vnd.databricks.v1+cell": {
     "cellMetadata": {
      "byteLimit": 2048000,
      "rowLimit": 10000
     },
     "inputWidgets": {},
     "nuid": "491fceea-8cd7-4f65-a0a0-0c35078d1ce8",
     "showTitle": false,
     "tableResultSettingsMap": {},
     "title": ""
    }
   },
   "outputs": [],
   "source": [
    "def convert_dept(col):\n",
    "    return when((col == '2A') | (col == '2B'), '20').otherwise(col)\n",
    "\n",
    "transactions = transactions.withColumn('departement', convert_dept(col('departement'))).withColumn('prix', col('prix').cast('float'))\n",
    "loyers = loyers.withColumn('departement', convert_dept(col('departement')))\n",
    "parc_immobilier = parc_immobilier.withColumn('departement', convert_dept(col('departement')))\n",
    "\n"
   ]
  },
  {
   "cell_type": "code",
   "execution_count": 0,
   "metadata": {
    "application/vnd.databricks.v1+cell": {
     "cellMetadata": {
      "byteLimit": 2048000,
      "rowLimit": 10000
     },
     "inputWidgets": {},
     "nuid": "ad6c7331-5c1f-41df-9e1b-21f019d83f9d",
     "showTitle": false,
     "tableResultSettingsMap": {},
     "title": ""
    }
   },
   "outputs": [],
   "source": [
    "# Préparation des données\n",
    "indice_loyers = (indice_loyers\n",
    "    .withColumn('quarter', to_date('quarter'))\n",
    "    .withColumn('year', year('quarter'))\n",
    "    .groupBy('year')\n",
    "    .agg(avg('IRL').alias('IRL'))\n",
    ")\n"
   ]
  },
  {
   "cell_type": "code",
   "execution_count": 0,
   "metadata": {
    "application/vnd.databricks.v1+cell": {
     "cellMetadata": {
      "byteLimit": 2048000,
      "rowLimit": 10000
     },
     "inputWidgets": {},
     "nuid": "950559dc-8f97-4750-8c45-42709b303b51",
     "showTitle": false,
     "tableResultSettingsMap": {},
     "title": ""
    }
   },
   "outputs": [],
   "source": [
    "indice_loyers.display()"
   ]
  },
  {
   "cell_type": "code",
   "execution_count": 0,
   "metadata": {
    "application/vnd.databricks.v1+cell": {
     "cellMetadata": {
      "byteLimit": 2048000,
      "rowLimit": 10000
     },
     "inputWidgets": {},
     "nuid": "7ec8f6b3-1fd6-4521-8522-09d29fc8d6e7",
     "showTitle": false,
     "tableResultSettingsMap": {},
     "title": ""
    }
   },
   "outputs": [],
   "source": [
    "# Jointures des données\n",
    "merged_data = (transactions\n",
    "    .join(loyers, ['departement', 'id_ville'], 'left')\n",
    "    .join(foyers_fiscaux, ['departement', 'id_ville'], 'left')\n",
    "    .withColumn('annee', year('date_transaction'))  # On crée d'abord la colonne année\n",
    "    .join(indice_loyers, col('annee') == col('year'), 'left')  # Correction ici: on compare deux colonnes\n",
    ")\n",
    "\n",
    "display(merged_data)"
   ]
  },
  {
   "cell_type": "code",
   "execution_count": 0,
   "metadata": {
    "application/vnd.databricks.v1+cell": {
     "cellMetadata": {
      "byteLimit": 2048000,
      "rowLimit": 10000
     },
     "inputWidgets": {},
     "nuid": "f9c864ee-a85f-4a0a-a80a-4569dad4b12c",
     "showTitle": false,
     "tableResultSettingsMap": {},
     "title": ""
    }
   },
   "outputs": [],
   "source": [
    "print(merged_data.columns)"
   ]
  },
  {
   "cell_type": "code",
   "execution_count": 0,
   "metadata": {
    "application/vnd.databricks.v1+cell": {
     "cellMetadata": {
      "byteLimit": 2048000,
      "rowLimit": 10000
     },
     "inputWidgets": {},
     "nuid": "b2796338-c199-4ad8-8402-44dbaca703e9",
     "showTitle": false,
     "tableResultSettingsMap": {},
     "title": ""
    }
   },
   "outputs": [],
   "source": [
    "# Préparation des moyennes du parc immobilier\n",
    "moyennes = (parc_immobilier\n",
    "    .groupBy('departement', 'id_ville')\n",
    "    .agg(\n",
    "        avg('n_logements').alias('n_logements_mean'),\n",
    "        avg('n_logements_vacants').alias('n_logements_vacants_mean')\n",
    "    )\n",
    ")\n",
    "\n",
    "moyennes.display()"
   ]
  },
  {
   "cell_type": "code",
   "execution_count": 0,
   "metadata": {
    "application/vnd.databricks.v1+cell": {
     "cellMetadata": {
      "byteLimit": 2048000,
      "rowLimit": 10000
     },
     "inputWidgets": {},
     "nuid": "24cd0cc0-1a5d-4a55-bb8c-20ac0e1d4ccd",
     "showTitle": false,
     "tableResultSettingsMap": {},
     "title": ""
    }
   },
   "outputs": [],
   "source": [
    "parc_immobilier.display()"
   ]
  },
  {
   "cell_type": "code",
   "execution_count": 0,
   "metadata": {
    "application/vnd.databricks.v1+cell": {
     "cellMetadata": {
      "byteLimit": 2048000,
      "rowLimit": 10000
     },
     "inputWidgets": {},
     "nuid": "6c56788f-c69d-490a-9c79-0ddb5623aa01",
     "showTitle": false,
     "tableResultSettingsMap": {},
     "title": ""
    }
   },
   "outputs": [],
   "source": [
    "# 1. Première jointure avec parc_immobilier sur date, departement, id_ville\n",
    "merged_data = (merged_data\n",
    "    .join(\n",
    "        parc_immobilier.select('date', 'departement', 'id_ville', 'n_logements', 'n_logements_vacants'),\n",
    "        ['date', 'departement', 'id_ville'],\n",
    "        'left'\n",
    "    )\n",
    ")"
   ]
  },
  {
   "cell_type": "code",
   "execution_count": 0,
   "metadata": {
    "application/vnd.databricks.v1+cell": {
     "cellMetadata": {
      "byteLimit": 2048000,
      "rowLimit": 10000
     },
     "inputWidgets": {},
     "nuid": "71b485ff-e4dc-4d9b-b530-07e8f5a77946",
     "showTitle": false,
     "tableResultSettingsMap": {},
     "title": ""
    }
   },
   "outputs": [],
   "source": [
    "# 3. Remplacement des valeurs nulles par les moyennes\n",
    "merged_data = (merged_data\n",
    "    .join(moyennes, ['departement', 'id_ville'], 'left')\n",
    "    .withColumn('n_logements', \n",
    "        coalesce(col('n_logements'), col('n_logements_mean')))\n",
    "    .withColumn('n_logements_vacants', \n",
    "        coalesce(col('n_logements_vacants'), col('n_logements_vacants_mean')))\n",
    "    .drop('n_logements_mean', 'n_logements_vacants_mean')\n",
    ")\n",
    "\n",
    "display(merged_data)"
   ]
  },
  {
   "cell_type": "code",
   "execution_count": 0,
   "metadata": {
    "application/vnd.databricks.v1+cell": {
     "cellMetadata": {
      "byteLimit": 2048000,
      "rowLimit": 10000
     },
     "inputWidgets": {},
     "nuid": "d2e4f7b8-8334-44bf-be51-01664da7d681",
     "showTitle": false,
     "tableResultSettingsMap": {},
     "title": ""
    }
   },
   "outputs": [],
   "source": [
    "merged_data.columns"
   ]
  },
  {
   "cell_type": "markdown",
   "metadata": {
    "application/vnd.databricks.v1+cell": {
     "cellMetadata": {
      "byteLimit": 2048000,
      "rowLimit": 10000
     },
     "inputWidgets": {},
     "nuid": "3a299e8d-707e-46f7-b39f-10519f34043f",
     "showTitle": false,
     "tableResultSettingsMap": {},
     "title": ""
    }
   },
   "source": [
    "**Colonnes principales pour l'analyse immobilière :**\n",
    "\n",
    "- `prix` - La variable cible à prédire (prix du bien)\n",
    "- `surface_habitable` - La surface du bien immobilier\n",
    "- `type_batiment` - Type de propriété (maison, appartement, etc.)\n",
    "- `n_pieces` - Nombre de pièces dans le bien\n",
    "- `latitude`/`longitude` - Coordonnées géographiques pour la localisation précise\n",
    "- `departement` - Code départemental pour l'analyse régionale\n",
    "- `ville` - Nom de la commune\n",
    "- `loyer_m2_appartement`/`loyer_m2_maison` - Prix du marché locatif au m²\n",
    "- `revenu_fiscal_moyen` - Indicateur socio-économique de la zone\n",
    "- `IRL` - Indice de référence des loyers\n",
    "- `n_logements`/`n_logements_vacants` - État du marché immobilier local  \n",
    "- `annee` - Pour l'analyse temporelle des prix"
   ]
  },
  {
   "cell_type": "code",
   "execution_count": 0,
   "metadata": {
    "application/vnd.databricks.v1+cell": {
     "cellMetadata": {},
     "inputWidgets": {},
     "nuid": "0d450759-e71e-4282-adeb-5de74183f0a7",
     "showTitle": false,
     "tableResultSettingsMap": {},
     "title": ""
    }
   },
   "outputs": [],
   "source": []
  },
  {
   "cell_type": "code",
   "execution_count": 0,
   "metadata": {
    "application/vnd.databricks.v1+cell": {
     "cellMetadata": {
      "byteLimit": 2048000,
      "rowLimit": 10000
     },
     "inputWidgets": {},
     "nuid": "ff13b88f-60d5-4cc8-a120-4bfa551f8472",
     "showTitle": false,
     "tableResultSettingsMap": {},
     "title": ""
    }
   },
   "outputs": [],
   "source": [
    "# Sélection des colonnes pertinentes avec la source spécifiée\n",
    "selected_data = (merged_data.select(\n",
    "    'annee',\n",
    "    'prix',\n",
    "    'departement',\n",
    "    transactions['ville'].alias('ville'),  # On spécifie qu'on veut la ville de transactions\n",
    "    'surface_habitable',\n",
    "    'type_batiment',\n",
    "    'n_pieces',\n",
    "    'latitude',\n",
    "    'longitude',\n",
    "    'loyer_m2_appartement',\n",
    "    'loyer_m2_maison',\n",
    "    'revenu_fiscal_moyen',\n",
    "    'IRL',\n",
    "    'n_logements',\n",
    "    'n_logements_vacants'\n",
    ").distinct()  # Supprime les doublons\n",
    ")\n",
    "\n",
    "# Créer une vue temporaire\n",
    "selected_data.createOrReplaceTempView(\"immobilier_analysis\")\n",
    "\n",
    "# Sauvegarder comme table Delta\n",
    "selected_data.write.format(\"delta\").mode(\"overwrite\").option(\"overwriteSchema\", \"True\").saveAsTable(\"default.immobilier_analysis\")\n",
    "\n",
    "# Afficher le résultat\n",
    "display(selected_data)"
   ]
  },
  {
   "cell_type": "code",
   "execution_count": 0,
   "metadata": {
    "application/vnd.databricks.v1+cell": {
     "cellMetadata": {
      "byteLimit": 2048000,
      "rowLimit": 10000
     },
     "inputWidgets": {},
     "nuid": "302ba0b6-46a0-461d-a3a2-eddf7aad03f5",
     "showTitle": false,
     "tableResultSettingsMap": {},
     "title": ""
    }
   },
   "outputs": [],
   "source": [
    "selected_data.count()"
   ]
  },
  {
   "cell_type": "code",
   "execution_count": 0,
   "metadata": {
    "application/vnd.databricks.v1+cell": {
     "cellMetadata": {
      "byteLimit": 2048000,
      "implicitDf": true,
      "rowLimit": 10000
     },
     "inputWidgets": {},
     "nuid": "bc35baa4-7be8-416b-95c6-74eb06126319",
     "showTitle": false,
     "tableResultSettingsMap": {},
     "title": ""
    }
   },
   "outputs": [],
   "source": [
    "%sql\n",
    "SELECT * FROM default.immobilier_analysis"
   ]
  }
 ],
 "metadata": {
  "application/vnd.databricks.v1+notebook": {
   "computePreferences": null,
   "dashboards": [],
   "environmentMetadata": {
    "base_environment": "",
    "client": "1"
   },
   "language": "python",
   "notebookMetadata": {
    "mostRecentlyExecutedCommandWithImplicitDF": {
     "commandId": 150678791417454,
     "dataframes": [
      "_sqldf"
     ]
    },
    "pythonIndentUnit": 4
   },
   "notebookName": "data_management",
   "widgets": {}
  },
  "language_info": {
   "name": "python"
  }
 },
 "nbformat": 4,
 "nbformat_minor": 0
}
